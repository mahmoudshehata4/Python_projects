{
  "cells": [
    {
      "cell_type": "markdown",
      "metadata": {
        "id": "view-in-github",
        "colab_type": "text"
      },
      "source": [
        "<a href=\"https://colab.research.google.com/github/mahmoudshehata4/Python_projects/blob/main/opening%20Linked%20In%20profile.ipynb\" target=\"_parent\"><img src=\"https://colab.research.google.com/assets/colab-badge.svg\" alt=\"Open In Colab\"/></a>"
      ]
    },
    {
      "cell_type": "code",
      "source": [
        "import webbrowser\n",
        "\n",
        "users = ['mohamed','ahmed','ibrahem']\n",
        "userspass = ['5430','271','485']\n",
        "\n",
        "indexout = -1;\n",
        "userin=input('')\n",
        "passin=input('')\n",
        "i = 0\n",
        "\n",
        "while i < len(users):\n",
        "  if userin == users[i]:\n",
        "        indexout = i;\n",
        "        break\n",
        "  i+=1;\n",
        "\n",
        "\n",
        "'''\n",
        "for i in range(users):\n",
        "    if userin == i:\n",
        "        indexout = i;\n",
        "        break\n",
        "'''\n",
        "if userspass[indexout] == passin:\n",
        "    print(len(users))\n",
        "    webbrowser.open_new('https://www.linkedin.com/in/mahmoud-shehata-205810164/')"
      ],
      "metadata": {
        "colab": {
          "base_uri": "https://localhost:8080/"
        },
        "id": "4nAY9WS5oJRl",
        "outputId": "81c1af32-3681-449e-9c33-89fc19a02b6a"
      },
      "execution_count": 3,
      "outputs": [
        {
          "output_type": "stream",
          "name": "stdout",
          "text": [
            "mohamed\n",
            "5430\n",
            "3\n"
          ]
        }
      ]
    }
  ],
  "metadata": {
    "colab": {
      "provenance": [],
      "authorship_tag": "ABX9TyPDyb8LIIFVS2deQzRLBRjs",
      "include_colab_link": true
    },
    "kernelspec": {
      "display_name": "Python 3",
      "name": "python3"
    },
    "language_info": {
      "name": "python"
    }
  },
  "nbformat": 4,
  "nbformat_minor": 0
}